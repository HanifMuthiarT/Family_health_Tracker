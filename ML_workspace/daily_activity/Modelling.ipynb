{
 "cells": [
  {
   "cell_type": "code",
   "execution_count": 31,
   "metadata": {},
   "outputs": [],
   "source": [
    "import os\n",
    "import pandas as pd \n",
    "import numpy as np \n",
    "import tensorflow as tf "
   ]
  },
  {
   "cell_type": "code",
   "execution_count": null,
   "metadata": {},
   "outputs": [],
   "source": [
    "head_columns = ['user', 'activity', 'time', 'x', 'y', 'z']"
   ]
  },
  {
   "cell_type": "code",
   "execution_count": 43,
   "metadata": {},
   "outputs": [],
   "source": [
    "for folder_divice in os.listdir(r'D:\\bangkit\\capstone\\Family_health_Tracker\\ML_workspace\\daily_activity\\raw'):\n",
    "    for folder_move in os.listdir(os.path.join(folder_divice,r'D:\\bangkit\\capstone\\Family_health_Tracker\\ML_workspace\\daily_activity\\raw')):\n",
    "        for dirname,_,filename in os.walk(folder_move):\n",
    "            print(filename)"
   ]
  },
  {
   "cell_type": "code",
   "execution_count": null,
   "metadata": {},
   "outputs": [],
   "source": [
    "def data_integ(columns,input_folder,output_folder):\n",
    "    sum_data = pd.DataFrame(data=None,columns=columns)\n",
    "    for folder_divice in os.listdir(input_folder):\n",
    "        for folder_move in os.listdir(os.path.join(input_folder,folder_divice)):\n",
    "            path_fmove = os.path.join(input_folder,folder_divice,folder_move)\n",
    "            for file in os.listdir(path_fmove):\n",
    "                df = pd.read_csv(os.path.join(path_fmove,file),sep=',',header=None)\n",
    "                temp_data = pd.DataFrame(data=df.values, columns=columns)\n",
    "                sum_data = pd.concat([sum_data,temp_data])"
   ]
  }
 ],
 "metadata": {
  "kernelspec": {
   "display_name": "Bangkit-env",
   "language": "python",
   "name": "python3"
  },
  "language_info": {
   "codemirror_mode": {
    "name": "ipython",
    "version": 3
   },
   "file_extension": ".py",
   "mimetype": "text/x-python",
   "name": "python",
   "nbconvert_exporter": "python",
   "pygments_lexer": "ipython3",
   "version": "3.12.0"
  }
 },
 "nbformat": 4,
 "nbformat_minor": 2
}
